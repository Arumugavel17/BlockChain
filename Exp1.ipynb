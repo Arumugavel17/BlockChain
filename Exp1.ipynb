{
 "cells": [
  {
   "cell_type": "markdown",
   "metadata": {},
   "source": [
    "# <div style=\"text-align: center;\">EXPERIMENT NO.1</div>\n",
    "\n",
    "<div style=\"text-align: right; padding-right: 200px;\">\n",
    "<strong>NAME:</strong> Arumugavel<br>\n",
    "<strong>ROLL NUMBER:</strong> T001<br>\n",
    "<strong>DATE:</strong> 16/01/2025\n",
    "</div>\n",
    "\n",
    "---\n",
    "\n",
    "**AIM:** To implement secret key cryptography techniques<br>\n",
    "**THEORY:**\n"
   ]
  },
  {
   "cell_type": "code",
   "execution_count": 1,
   "metadata": {},
   "outputs": [
    {
     "name": "stdout",
     "output_type": "stream",
     "text": [
      "HeLLO\n"
     ]
    }
   ],
   "source": []
  },
  {
   "cell_type": "code",
   "execution_count": null,
   "metadata": {},
   "outputs": [],
   "source": []
  },
  {
   "cell_type": "markdown",
   "metadata": {},
   "source": [
    "**CONCLUSION:**"
   ]
  }
 ],
 "metadata": {
  "kernelspec": {
   "display_name": "Python 3",
   "language": "python",
   "name": "python3"
  },
  "language_info": {
   "codemirror_mode": {
    "name": "ipython",
    "version": 3
   },
   "file_extension": ".py",
   "mimetype": "text/x-python",
   "name": "python",
   "nbconvert_exporter": "python",
   "pygments_lexer": "ipython3",
   "version": "3.13.1"
  }
 },
 "nbformat": 4,
 "nbformat_minor": 2
}
