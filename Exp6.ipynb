{
  "cells": [
    {
      "cell_type": "markdown",
      "metadata": {
        "id": "HWF1bQjMqhxa"
      },
      "source": [
        "# <div style=\"text-align: center;\">EXPERIMENT NO.6</div>\n",
        "\n",
        "<div style=\"text-align: right; padding-right: 200px;\">\n",
        "<strong>NAME:</strong> Arumugavel<br>\n",
        "<strong>ROLL NUMBER:</strong> T001<br>\n",
        "<strong>DATE:</strong> 16/01/2025\n",
        "</div>\n",
        "\n",
        "---\n",
        "\n",
        "**AIM:** To Implement Blockchain using Merkle Trees<br>\n",
        "**THEORY:**\n"
      ]
    },
    {
      "cell_type": "code",
      "execution_count": null,
      "metadata": {
        "id": "cxPDsXMHqhxc",
        "outputId": "0b9aad64-e125-4572-e2c5-d9bc6db35ccb"
      },
      "outputs": [
        {
          "name": "stdout",
          "output_type": "stream",
          "text": [
            "HeLLO\n"
          ]
        }
      ],
      "source": []
    },
    {
      "cell_type": "code",
      "execution_count": null,
      "metadata": {
        "id": "oBT8D2cpqhxd"
      },
      "outputs": [],
      "source": []
    },
    {
      "cell_type": "markdown",
      "metadata": {
        "id": "_GuWbx0zqhxd"
      },
      "source": [
        "**CONCLUSION:**"
      ]
    }
  ],
  "metadata": {
    "kernelspec": {
      "display_name": "Python 3",
      "language": "python",
      "name": "python3"
    },
    "language_info": {
      "codemirror_mode": {
        "name": "ipython",
        "version": 3
      },
      "file_extension": ".py",
      "mimetype": "text/x-python",
      "name": "python",
      "nbconvert_exporter": "python",
      "pygments_lexer": "ipython3",
      "version": "3.13.1"
    },
    "colab": {
      "provenance": []
    }
  },
  "nbformat": 4,
  "nbformat_minor": 0
}